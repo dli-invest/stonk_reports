{
 "cells": [
  {
   "cell_type": "code",
   "execution_count": null,
   "metadata": {
    "dotnet_interactive": {
     "language": "csharp"
    }
   },
   "outputs": [
    {
     "name": "stdout",
     "output_type": "stream",
     "text": [
      "PostDate,Content,Author,RelativeDate,Likes,Dislikes\n",
      "12 days ago,Results are decent considering the war in Ukraine's impact on the Uzbekistan deals. Hopefully the Hidotrop deal more than compensates for that loss or delay in revenue. Let's see what happens next quarter, I'm still all in!,Ranjan,,0,0\n",
      "12 days ago,Guys any reactions on the Finanscial results for Q2?,Santan,,1,0\n",
      "15 days ago,Finally the Hidrotop deal is done, let's go!!,Ranjan,,0,0\n",
      "29 days ago,https://www.theglobeandmail.com/business/article-as-agtech-surges-can-canada-close-the-gap/,רוני,,3,0\n",
      "last month,Trend change.  Looking good for continued upward movement here,michael,,3,0\n",
      "last month,Still on high volumes today. I don't usually buy on feeling, but I just did!,Hugo,,3,0\n",
      "last month,What's going on with the high volume lately?,Tyler,,4,0\n",
      "last month,Good Volume! Heading in the right direction as well!,Ranjan,,0,0\n",
      "last month,https://www.brusselstimes.com/259204/more-drought-leads-to-more-investment-in-water-companies,רוני,,0,0\n",
      "last month,https://financialpost.com/globe-newswire/water-ways-receives-new-orders-totalling-c322000-in-africa,רוני,,0,0\n",
      "2 months ago,Heat waves, localized drought (eg. Lake Mead, etc.), food insecurity…not going away.  The opportunities are endless for these guys, who are slowly but surely expanding their global footprint.Market conditions are the only reason for this dip.Long til I die.More,Jimmy,,0,0\n",
      "2 months ago,Still waiting on the Acquisition to be completed.,Ranjan,,0,0\n",
      "2 months ago,any idea if anyone buying in to this today ?,Brooks,,0,0\n",
      "2 months ago,Was hoping to hear about the acquisition yesterday.  🤷🏽,michael,,3,0\n",
      "3 months ago,https://ceo.ca/@nasdaq/water-ways-to-deliver-a-c200000-blueberries-smart,Ranjan,,0,0\n",
      "3 months ago,This is brutal, im still bullish for the long term,Simon,,8,0\n",
      "3 months ago,Guess its a good time to average down... be nice to see some green days,Tyler,,7,0\n",
      "3 months ago,https://www.benzinga.com/markets/emerging-markets/22/05/27435730/bringing-favorite-consumables-to-market-might-get-even-more-lucrative-for-this-water-sto,רוני,,2,0\n",
      "3 months ago,The fact that we doubled our net profits WITHOUT recognizing any cash from the Uzbekistan deal is leading me to believe that the strong reports will continue to come as the second half of the year begins. She won’t blow up overnight, but so far I’m liking what I’m seeing and the constant growth is there!,Yosuf,,10,0\n",
      "3 months ago,Hey! We made a profit. But we paid the Chinese CEO 1 million dollars for literally doing nothing???,------,,0,0\n",
      "4 months ago,Also when is this Hidrotop acquisition closing? They extended it once to ‘mid-May’. It’s passed mid May right now - another extension?,Matt,,0,0\n",
      "4 months ago,I’m worried there haven’t been many contracts recently other than the Mexico Blueberry one,Matt,,0,1\n",
      "4 months ago,https://discord.gg/PhaYhnmhWater ways discord chat,michael,,1,0\n",
      "4 months ago,https://youtu.be/E0L7qNoBVYE,Ben,,1,0\n",
      "4 months ago,Financials are good but stock is suffer, what the phell?,Podsiljak MrkonjicGrad,,0,0\n",
      "4 months ago,3 Agriculture stocks poised for big gains in 2022! EarthRenew, Water Ways and MustGrowhttps://equity.guru/2022/05/05/3-agriculture-stocks-poised-for-big-gains-in-2022-earthrenew-water-ways-and-mustgrow/,רוני,,5,0\n",
      "4 months ago,Was anyone on the zoom call this morning?,Jeremy,,0,1\n",
      "4 months ago,Disappointed in the market reaction so far! Hopefully things will change going forward!,Ranjan,,0,0\n",
      "4 months ago,wen moon haha,D,,2,0\n"
     ]
    }
   ],
   "source": [
    "// output 30 lines from csv\n",
    "using System.IO;\n",
    "using (StreamReader sr = new StreamReader(\"WWT/WWT.V.csv\"))\n",
    "{\n",
    "    string currentLine;\n",
    "    int outputLimit = 30;\n",
    "    int curr = 1;\n",
    "    // currentLine will be null when the StreamReader reaches the end of file\n",
    "    // with interactive notebooks the limit is 30.\n",
    "    while((currentLine = sr.ReadLine()) != null)\n",
    "    {\n",
    "        Console.WriteLine(currentLine);\n",
    "        curr++;\n",
    "        if (curr > outputLimit)\n",
    "            break;\n",
    "    }\n",
    "}"
   ]
  },
  {
   "cell_type": "code",
   "execution_count": null,
   "metadata": {
    "dotnet_interactive": {
     "language": "html"
    }
   },
   "outputs": [
    {
     "data": {
      "text/html": [
       "<div class=\"mermaidMarkdownContainer\" style=\"background-color:white\">\n",
       "<script type=\"text/javascript\">\n",
       "\r\n",
       "loadMermaid_e2432d69d278434aa65ef08774b2480a = () => {\n",
       " \r\n",
       "        (require.config({ 'paths': { 'context': '9.1.3', 'mermaidUri' : 'https://cdn.jsdelivr.net/npm/mermaid@9.1.3/dist/mermaid.min', 'urlArgs': 'cacheBuster=6590b67b0e304a76bf7d0a8b8470abd0' }}) || require)(['mermaidUri'], (mermaid) => {\n",
       "\r\n",
       "            let renderTarget = document.getElementById('e2432d69d278434aa65ef08774b2480a');\r\n",
       "            mermaid.mermaidAPI.render( \r\n",
       "                'mermaid_e2432d69d278434aa65ef08774b2480a', \r\n",
       "                ``, \r\n",
       "                g => {\r\n",
       "                    renderTarget.innerHTML = g \r\n",
       "                });\r\n",
       "        },\r\n",
       "        (error) => {\r\n",
       "            console.log(error);\r\n",
       "        });\r\n",
       "}\n",
       "// ensure `require` is available globally\r\n",
       "if ((typeof(require) !==  typeof(Function)) || (typeof(require.config) !== typeof(Function))) {\r\n",
       "    let require_script = document.createElement('script');\r\n",
       "    require_script.setAttribute('src', 'https://cdnjs.cloudflare.com/ajax/libs/require.js/2.3.6/require.min.js');\r\n",
       "    require_script.setAttribute('type', 'text/javascript');\r\n",
       "    \r\n",
       "    \r\n",
       "    require_script.onload = function() {\r\n",
       "        loadMermaid_e2432d69d278434aa65ef08774b2480a();\r\n",
       "    };\r\n",
       "\r\n",
       "    document.getElementsByTagName('head')[0].appendChild(require_script);\r\n",
       "}\r\n",
       "else {\r\n",
       "    loadMermaid_e2432d69d278434aa65ef08774b2480a();\r\n",
       "}\r\n",
       "\n",
       "</script>\n",
       "<div id=\"e2432d69d278434aa65ef08774b2480a\"></div>\n",
       "</div>\n"
      ]
     },
     "metadata": {},
     "output_type": "display_data"
    }
   ],
   "source": []
  }
 ],
 "metadata": {
  "kernelspec": {
   "display_name": "Python 3",
   "language": "python",
   "name": "python3"
  },
  "language_info": {
   "file_extension": ".cs",
   "mimetype": "text/x-csharp",
   "name": "python",
   "pygments_lexer": "csharp",
   "version": "3.10.4"
  },
  "orig_nbformat": 4,
  "vscode": {
   "interpreter": {
    "hash": "3ad933181bd8a04b432d3370b9dc3b0662ad032c4dfaa4e4f1596c548f763858"
   }
  }
 },
 "nbformat": 4,
 "nbformat_minor": 2
}
